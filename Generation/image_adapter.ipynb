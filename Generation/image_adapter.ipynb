{
 "cells": [
  {
   "cell_type": "code",
   "metadata": {
    "ExecuteTime": {
     "end_time": "2025-04-09T07:35:49.385178Z",
     "start_time": "2025-04-09T07:35:42.046504Z"
    }
   },
   "source": [
    "from functools import partial\n",
    "\n",
    "from transformers import CLIPVisionModel \n",
    "import torch\n",
    "from torch import nn\n",
    "from torchvision import transforms\n",
    "from PIL import Image\n",
    "\n",
    "import torch\n",
    "import torch.nn as nn\n",
    "from transformers import CLIPVisionModel\n",
    "from torchvision import transforms\n",
    "\n",
    "from ATMS_args import get_parser\n",
    "\n",
    "parser = get_parser()\n",
    "args = parser.parse_args()\n",
    "\n",
    "device = torch.device(args.gpu if torch.cuda.is_available() else 'cpu')\n",
    "print('device:', device)\n",
    "\n"
   ],
   "outputs": [
    {
     "name": "stdout",
     "output_type": "stream",
     "text": [
      "device: cuda:1\n"
     ]
    }
   ],
   "execution_count": 1
  },
  {
   "cell_type": "code",
   "metadata": {
    "ExecuteTime": {
     "end_time": "2025-04-09T07:35:58.378278Z",
     "start_time": "2025-04-09T07:35:49.421980Z"
    }
   },
   "source": [
    "train_pixel_img_feature = torch.load('/userhome2/liweile/EEG_Image_decode/Generation/variables/ViT-L-14_features_multimodal_train.pt', map_location=device, weights_only=True)['img_features']#\n",
    "test_pixel_img_feature = torch.load('/userhome2/liweile/EEG_Image_decode/Generation/variables/ViT-L-14_features_multimodal_test.pt', map_location=device, weights_only=True)['img_features']#\n",
    "train_img_feature = torch.load('/userhome2/liweile/EEG_Image_decode/Generation/variables/ViT-H-14_features_train.pt', map_location=device, weights_only=True)['img_features'].unsqueeze(1)#\n",
    "test_img_feature = torch.load('/userhome2/liweile/EEG_Image_decode/Generation/variables/ViT-H-14_features_test.pt', map_location=device, weights_only=True)['img_features'].unsqueeze(1)#\n"
   ],
   "outputs": [],
   "execution_count": 2
  },
  {
   "cell_type": "code",
   "metadata": {
    "ExecuteTime": {
     "end_time": "2025-04-09T07:35:58.917151Z",
     "start_time": "2025-04-09T07:35:58.894924Z"
    }
   },
   "source": [
    "print(train_pixel_img_feature.shape)\n",
    "print(test_pixel_img_feature.shape)\n",
    "print(train_img_feature.shape)\n",
    "print(test_img_feature.shape)"
   ],
   "outputs": [
    {
     "name": "stdout",
     "output_type": "stream",
     "text": [
      "torch.Size([16540, 256, 1024])\n",
      "torch.Size([200, 256, 1024])\n",
      "torch.Size([16540, 1, 1024])\n",
      "torch.Size([200, 1, 1024])\n"
     ]
    }
   ],
   "execution_count": 3
  },
  {
   "cell_type": "code",
   "metadata": {
    "ExecuteTime": {
     "end_time": "2025-04-09T07:36:39.675892Z",
     "start_time": "2025-04-09T07:35:58.981278Z"
    }
   },
   "source": [
    "import torch\n",
    "import torch.nn as nn\n",
    "import torch.optim as optim\n",
    "from torch.utils.data import DataLoader, TensorDataset\n",
    "from einops.layers.torch import Rearrange, Reduce\n",
    "\n",
    "import datetime\n",
    "# Define the neural network\n",
    "class PixelProjector(nn.Sequential):\n",
    "    def __init__(self, proj_dim=1024):\n",
    "        super().__init__(\n",
    "            Rearrange('B C L->B L C'),    \n",
    "            nn.Linear(1, 256),\n",
    "            nn.LayerNorm(256),\n",
    "            Rearrange('B L C->B C L'),\n",
    "            nn.Linear(1024, 1024),\n",
    "            nn.LayerNorm(proj_dim),\n",
    "            )\n",
    "        \n",
    "        \n",
    "\n",
    "# Instantiate the model, loss function, and optimizer\n",
    "\n",
    "model = PixelProjector(proj_dim=1024).to(torch.bfloat16).to(device)\n",
    "criterion = nn.MSELoss()\n",
    "optimizer = optim.AdamW(model.parameters(), lr=0.1)\n",
    "\n",
    "# Prepare data loaders\n",
    "train_dataset = TensorDataset(train_img_feature, train_pixel_img_feature)\n",
    "test_dataset = TensorDataset(test_img_feature, test_pixel_img_feature)\n",
    "\n",
    "train_loader = DataLoader(train_dataset, batch_size=64, shuffle=True, drop_last=True)\n",
    "test_loader = DataLoader(test_dataset, batch_size=64, shuffle=False)\n",
    "\n",
    "print(f\"{[datetime.datetime.now().strftime('%Y-%m-%d %H:%M:%S')]} Prepare data loaders done.\")\n",
    "\n",
    "# Training loop\n",
    "num_epochs = 30\n",
    "for epoch in range(num_epochs):\n",
    "    model.train()\n",
    "    running_loss = 0.0\n",
    "    for inputs, targets in train_loader:\n",
    "        inputs, targets = inputs.to(torch.bfloat16).to(device), targets.to(torch.bfloat16).to(device)\n",
    "        optimizer.zero_grad()\n",
    "        outputs = model(inputs)\n",
    "        loss = criterion(outputs, targets)\n",
    "        loss.backward()\n",
    "        optimizer.step()\n",
    "        running_loss += loss.item()\n",
    "    \n",
    "    print(f\"{[datetime.datetime.now().strftime('%Y-%m-%d %H:%M:%S')]} Epoch {epoch+1}/{num_epochs}, Loss: {running_loss/len(train_loader)}\")\n",
    "\n",
    "# Testing loop\n",
    "model.eval()\n",
    "test_loss = 0.0\n",
    "with torch.no_grad():\n",
    "    for inputs, targets in test_loader:\n",
    "        inputs, targets = inputs.to(torch.bfloat16).to(device), targets.to(torch.bfloat16).to(device)\n",
    "        outputs = model(inputs)\n",
    "        loss = criterion(outputs, targets)\n",
    "        test_loss += loss.item()\n",
    "\n",
    "print(f\"{[datetime.datetime.now().strftime('%Y-%m-%d %H:%M:%S')]} Test Loss: {test_loss/len(test_loader)}\")\n",
    "\n",
    "# Save the trained model\n",
    "torch.save(model.state_dict(), '/userhome2/liweile/EEG_Image_decode/Generation/EEG_caption/model_weights/PixelProjector_best.bin')\n",
    "print(f\"{[datetime.datetime.now().strftime('%Y-%m-%d %H:%M:%S')]} Model saved as PixelProjector.bin\")\n"
   ],
   "outputs": [
    {
     "name": "stdout",
     "output_type": "stream",
     "text": [
      "['2025-04-09 15:35:59'] Prepare data loaders done.\n",
      "['2025-04-09 15:36:01'] Epoch 1/30, Loss: 0.9113977713178295\n",
      "['2025-04-09 15:36:02'] Epoch 2/30, Loss: 0.7538154069767442\n",
      "['2025-04-09 15:36:03'] Epoch 3/30, Loss: 0.7460483284883721\n",
      "['2025-04-09 15:36:05'] Epoch 4/30, Loss: 0.7436864098837209\n",
      "['2025-04-09 15:36:06'] Epoch 5/30, Loss: 0.7425660125968992\n",
      "['2025-04-09 15:36:08'] Epoch 6/30, Loss: 0.741718144379845\n",
      "['2025-04-09 15:36:09'] Epoch 7/30, Loss: 0.7411428052325582\n",
      "['2025-04-09 15:36:10'] Epoch 8/30, Loss: 0.7405069040697675\n",
      "['2025-04-09 15:36:12'] Epoch 9/30, Loss: 0.7401738129844961\n",
      "['2025-04-09 15:36:13'] Epoch 10/30, Loss: 0.7397044573643411\n",
      "['2025-04-09 15:36:14'] Epoch 11/30, Loss: 0.7395833333333334\n",
      "['2025-04-09 15:36:16'] Epoch 12/30, Loss: 0.739265382751938\n",
      "['2025-04-09 15:36:17'] Epoch 13/30, Loss: 0.7389928536821705\n",
      "['2025-04-09 15:36:18'] Epoch 14/30, Loss: 0.7386900436046512\n",
      "['2025-04-09 15:36:19'] Epoch 15/30, Loss: 0.7386446220930233\n",
      "['2025-04-09 15:36:21'] Epoch 16/30, Loss: 0.7384780765503876\n",
      "['2025-04-09 15:36:22'] Epoch 17/30, Loss: 0.7384477955426356\n",
      "['2025-04-09 15:36:23'] Epoch 18/30, Loss: 0.7383569525193798\n",
      "['2025-04-09 15:36:25'] Epoch 19/30, Loss: 0.7384175145348837\n",
      "['2025-04-09 15:36:26'] Epoch 20/30, Loss: 0.7381449854651163\n",
      "['2025-04-09 15:36:27'] Epoch 21/30, Loss: 0.7381298449612403\n",
      "['2025-04-09 15:36:29'] Epoch 22/30, Loss: 0.7380541424418605\n",
      "['2025-04-09 15:36:30'] Epoch 23/30, Loss: 0.7379784399224806\n",
      "['2025-04-09 15:36:31'] Epoch 24/30, Loss: 0.7380692829457365\n",
      "['2025-04-09 15:36:33'] Epoch 25/30, Loss: 0.7379178779069767\n",
      "['2025-04-09 15:36:34'] Epoch 26/30, Loss: 0.7380238614341085\n",
      "['2025-04-09 15:36:35'] Epoch 27/30, Loss: 0.737796753875969\n",
      "['2025-04-09 15:36:37'] Epoch 28/30, Loss: 0.7379178779069767\n",
      "['2025-04-09 15:36:38'] Epoch 29/30, Loss: 0.7377513323643411\n",
      "['2025-04-09 15:36:39'] Epoch 30/30, Loss: 0.7377210513565892\n",
      "['2025-04-09 15:36:39'] Test Loss: 0.75\n",
      "['2025-04-09 15:36:39'] Model saved as PixelProjector.bin\n"
     ]
    }
   ],
   "execution_count": 4
  },
  {
   "cell_type": "code",
   "metadata": {
    "ExecuteTime": {
     "end_time": "2025-04-09T07:36:39.777292Z",
     "start_time": "2025-04-09T07:36:39.774656Z"
    }
   },
   "source": [],
   "outputs": [],
   "execution_count": null
  }
 ],
 "metadata": {
  "kernelspec": {
   "display_name": "BCI",
   "language": "python",
   "name": "python3"
  },
  "language_info": {
   "codemirror_mode": {
    "name": "ipython",
    "version": 3
   },
   "file_extension": ".py",
   "mimetype": "text/x-python",
   "name": "python",
   "nbconvert_exporter": "python",
   "pygments_lexer": "ipython3",
   "version": "3.10.0"
  }
 },
 "nbformat": 4,
 "nbformat_minor": 2
}
