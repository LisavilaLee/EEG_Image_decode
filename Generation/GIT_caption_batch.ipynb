{
 "cells": [
  {
   "cell_type": "code",
   "metadata": {},
   "source": [
    "import torch\n",
    "device = torch.device(\"cuda:1\" if torch.cuda.is_available() else \"cpu\")\n",
    "print(device)"
   ],
   "outputs": [],
   "execution_count": null
  },
  {
   "cell_type": "code",
   "metadata": {},
   "source": [
    "from transformers import AutoProcessor, AutoModelForCausalLM\n",
    "from modeling_git import GitForCausalLMClipEmb\n",
    "processor = AutoProcessor.from_pretrained(\"/userhome2/liweile/EEG_Image_decode/Generation/git-large-coco/\")\n",
    "clip_text_model = GitForCausalLMClipEmb.from_pretrained(\"/userhome2/liweile/EEG_Image_decode/Generation/git-large-coco/\")\n",
    "clip_text_model.to(device) # if you get OOM running this script, you can switch this to cpu and lower minibatch_size to 4\n",
    "clip_text_model.eval().requires_grad_(False)\n",
    "\n",
    "# url = \"http://images.cocodataset.org/val2017/000000039769.jpg\"\n",
    "# image = Image.open(requests.get(url, stream=True).raw)\n",
    "\n",
    "# git_image = Image.open(\"/root/autodl-tmp/Workspace/EEG_caption/docs/test/banana_09s.jpg\")\n",
    "# pixel_values = processor(images=git_image, return_tensors=\"pt\").pixel_values.to(device)\n",
    "# vision_encoder=model.git.image_encoder\n",
    "\n",
    "# git_image_features=vision_encoder(pixel_values).last_hidden_state.cpu()\n",
    "# git_image_features.shape\n"
   ],
   "outputs": [],
   "execution_count": null
  },
  {
   "cell_type": "code",
   "metadata": {},
   "source": [
    "git_test = torch.load(\"/userhome2/liweile/EEG_Image_decode/Generation/variables/ViT-L-14_features_multimodal_test.pt\",weights_only=True)['img_features']\n",
    "git_test.shape"
   ],
   "outputs": [],
   "execution_count": null
  },
  {
   "cell_type": "code",
   "metadata": {},
   "source": [
    "emb_eeg_test = torch.load('/userhome2/liweile/EEG_Image_decode/Reconstruction/ATM_S_eeg_features_sub-01_test.pt', weights_only=True).unsqueeze(1)\n",
    "emb_eeg_test.shape"
   ],
   "outputs": [],
   "execution_count": null
  },
  {
   "cell_type": "code",
   "metadata": {},
   "source": [
    "import torch\n",
    "from torch import nn\n",
    "import torch.nn.functional as F\n",
    "import torchvision.transforms as transforms\n",
    "import matplotlib.pyplot as plt\n",
    "import open_clip\n",
    "from matplotlib.font_manager import FontProperties\n",
    "\n",
    "import sys\n",
    "from diffusion_prior import *\n",
    "from custom_pipeline import *\n",
    "# os.environ[\"CUDA_VISIBLE_DEVICES\"] = \"5\" \n",
    "device = torch.device('cuda:1' if torch.cuda.is_available() else 'cpu')\n",
    "import torch\n",
    "import torch.nn as nn\n",
    "import torch.optim as optim\n",
    "from torch.utils.data import DataLoader, TensorDataset\n",
    "from einops.layers.torch import Rearrange, Reduce\n",
    "\n",
    "# Define the neural network\n",
    "class PixelProjector(nn.Sequential):\n",
    "    def __init__(self, proj_dim=1024):\n",
    "        super().__init__(\n",
    "            Rearrange('B C L->B L C'),    \n",
    "            nn.Linear(1, 256),\n",
    "            nn.LayerNorm(256),\n",
    "            Rearrange('B L C->B C L'),\n",
    "            nn.Linear(1024, 1024),\n",
    "            nn.LayerNorm(proj_dim),\n",
    "            )\n",
    "model = PixelProjector(proj_dim=1024).to(torch.bfloat16).to(device)\n",
    "model.load_state_dict(torch.load('/userhome2/liweile/EEG_Image_decode/Generation/EEG_caption/model_weights/PixelProjector_best.bin'))\n"
   ],
   "outputs": [],
   "execution_count": null
  },
  {
   "cell_type": "code",
   "metadata": {},
   "source": [
    "diffusion_prior = DiffusionPriorUNet(cond_dim=1024, dropout=0.1)\n",
    "# number of parameters\n",
    "print(sum(p.numel() for p in diffusion_prior.parameters() if p.requires_grad))\n",
    "pipe = Pipe(diffusion_prior, device=device)\n",
    "\n",
    "# load pretrained model\n",
    "model_name = 'diffusion_prior' # 'diffusion_prior_vice_pre_imagenet' or 'diffusion_prior_vice_pre'\n",
    "# pipe.train(dl, num_epochs=150, learning_rate=1e-3) # to 0.142\n",
    "\n",
    "# diffusion_prior.pt 是先运行README中的clip pipeline两个文件才生成的。\n",
    "pipe.diffusion_prior.load_state_dict(torch.load(r'/userhome2/liweile/EEG_Image_decode/Generation/fintune_ckpts/ATMS/sub-01/diffusion_prior.pt', weights_only=True, map_location=device))"
   ],
   "outputs": [],
   "execution_count": null
  },
  {
   "cell_type": "code",
   "metadata": {},
   "source": [
    "# Loop through each element in emb_eeg_test and generate captions\n",
    "with open('semantic_level_caption.txt', 'w') as f:\n",
    "    for emb in emb_eeg_test:\n",
    "        # Generate h for each emb\n",
    "        h = pipe.generate(c_embeds=emb, num_inference_steps=4, guidance_scale=5.0)\n",
    "\n",
    "        # Get test image\n",
    "        test_img_257_1024 = model(h.unsqueeze(0).to(torch.bfloat16).to(device))\n",
    "        # print(f\"test_img_257_1024 shape: {test_img_257_1024.shape}\")\n",
    "\n",
    "        # Generate captions\n",
    "        generated_ids = clip_text_model.generate(pixel_values=test_img_257_1024.to(device).float(), max_new_tokens=25)\n",
    "        generated_caption = processor.batch_decode(generated_ids, skip_special_tokens=True)\n",
    "        print(generated_caption)\n",
    "        # Write each caption to a new line in the txt file\n",
    "        f.write(f\"{generated_caption[0]}\\n\")\n",
    "\n",
    "print(\"Captions generated and saved to 'generated_captions.txt'.\")\n"
   ],
   "outputs": [],
   "execution_count": null
  },
  {
   "cell_type": "code",
   "metadata": {},
   "source": [
    "# dataset = EmbeddingDataset(\n",
    "#     c_embeddings=eeg_features_train, h_embeddings=emb_img_train_4, \n",
    "#     # h_embeds_uncond=h_embeds_imgnet\n",
    "# )\n",
    "# dl = DataLoader(dataset, batch_size=1024, shuffle=True, num_workers=64)\n",
    "diffusion_prior = DiffusionPriorUNet(cond_dim=1024, dropout=0.1)\n",
    "# number of parameters\n",
    "print(sum(p.numel() for p in diffusion_prior.parameters() if p.requires_grad))\n",
    "pipe = Pipe(diffusion_prior, device=device)\n",
    "\n",
    "# load pretrained model\n",
    "model_name = 'diffusion_prior' # 'diffusion_prior_vice_pre_imagenet' or 'diffusion_prior_vice_pre'\n",
    "# pipe.train(dl, num_epochs=150, learning_rate=1e-3) # to 0.142 \n",
    "pipe.diffusion_prior.load_state_dict(torch.load(r'/userhome2/liweile/EEG_Image_decode/Generation/fintune_ckpts/ATMS/sub-01/diffusion_prior.pt', weights_only=True, map_location=device))\n",
    "\n",
    "h = pipe.generate(c_embeds=emb_eeg_test[0], num_inference_steps=4, guidance_scale=5.0)\n",
    "\n",
    "\n",
    "model = PixelProjector(proj_dim=1024).to(torch.bfloat16).to(device)\n",
    "model.load_state_dict(torch.load('/userhome2/liweile/EEG_Image_decode/Generation/EEG_caption/model_weights/PixelProjector_best.bin'))\n",
    "\n",
    "\n",
    "test_img_257_1024 = model(h.unsqueeze(0).to(torch.bfloat16).to(device))\n",
    "\n",
    "generated_ids = clip_text_model.generate(pixel_values=test_img_257_1024.to(device).float(), max_new_tokens=25)\n",
    "\n",
    "generated_caption = processor.batch_decode(generated_ids, skip_special_tokens=True)\n",
    "generated_caption"
   ],
   "outputs": [],
   "execution_count": null
  },
  {
   "cell_type": "code",
   "metadata": {},
   "source": [],
   "outputs": [],
   "execution_count": null
  },
  {
   "cell_type": "code",
   "metadata": {},
   "source": [
    "# generated_caption = processor.batch_decode(generated_ids, skip_special_tokens=True)[0]\n",
    "# generated_caption"
   ],
   "outputs": [],
   "execution_count": null
  },
  {
   "cell_type": "code",
   "metadata": {},
   "source": [],
   "outputs": [],
   "execution_count": null
  },
  {
   "cell_type": "code",
   "metadata": {},
   "source": [],
   "outputs": [],
   "execution_count": null
  }
 ],
 "metadata": {
  "kernelspec": {
   "display_name": "BCI",
   "language": "python",
   "name": "python3"
  },
  "language_info": {
   "codemirror_mode": {
    "name": "ipython",
    "version": 3
   },
   "file_extension": ".py",
   "mimetype": "text/x-python",
   "name": "python",
   "nbconvert_exporter": "python",
   "pygments_lexer": "ipython3",
   "version": "3.1.undefined"
  }
 },
 "nbformat": 4,
 "nbformat_minor": 2
}
